{
 "cells": [
  {
   "cell_type": "code",
   "execution_count": 1,
   "id": "b6192ceb",
   "metadata": {},
   "outputs": [],
   "source": [
    "# Import necessary libraries\n",
    "import pandas as pd\n",
    "from sklearn.model_selection import train_test_split\n",
    "from sklearn.feature_extraction.text import TfidfVectorizer, CountVectorizer \n",
    "from sklearn.svm import SVC\n",
    "from sklearn.metrics import accuracy_score, classification_report\n",
    "from nltk.tokenize import word_tokenize, RegexpTokenizer\n",
    "from nltk.corpus import stopwords\n",
    "from nltk.stem import PorterStemmer\n",
    "from sklearn.linear_model import LogisticRegression\n",
    "from sklearn.naive_bayes import MultinomialNB\n",
    "from sklearn.ensemble import RandomForestClassifier, GradientBoostingClassifier\n",
    "import warnings\n",
    "warnings.filterwarnings('ignore')\n"
   ]
  },
  {
   "cell_type": "code",
   "execution_count": 2,
   "id": "21b5026b",
   "metadata": {},
   "outputs": [],
   "source": [
    "df = pd.read_csv('/Users/drey/Downloads/User Experience Spectrum Task - Annotated_data (1).csv')"
   ]
  },
  {
   "cell_type": "code",
   "execution_count": 3,
   "id": "a4ac798d",
   "metadata": {},
   "outputs": [
    {
     "data": {
      "text/html": [
       "<div>\n",
       "<style scoped>\n",
       "    .dataframe tbody tr th:only-of-type {\n",
       "        vertical-align: middle;\n",
       "    }\n",
       "\n",
       "    .dataframe tbody tr th {\n",
       "        vertical-align: top;\n",
       "    }\n",
       "\n",
       "    .dataframe thead th {\n",
       "        text-align: right;\n",
       "    }\n",
       "</style>\n",
       "<table border=\"1\" class=\"dataframe\">\n",
       "  <thead>\n",
       "    <tr style=\"text-align: right;\">\n",
       "      <th></th>\n",
       "      <th>Randomizer</th>\n",
       "      <th>reviewerID</th>\n",
       "      <th>asin</th>\n",
       "      <th>reviewerName</th>\n",
       "      <th>helpful</th>\n",
       "      <th>overall</th>\n",
       "      <th>reviewTime</th>\n",
       "      <th>summary</th>\n",
       "      <th>reviewText</th>\n",
       "      <th>User Experience Spectrum</th>\n",
       "    </tr>\n",
       "  </thead>\n",
       "  <tbody>\n",
       "    <tr>\n",
       "      <th>0</th>\n",
       "      <td>1</td>\n",
       "      <td>A1NAA1R38JSNHV</td>\n",
       "      <td>B0002F7IIK</td>\n",
       "      <td>Josh Leger</td>\n",
       "      <td>[0, 0]</td>\n",
       "      <td>5</td>\n",
       "      <td>1/4/2013</td>\n",
       "      <td>works wonders, very durable</td>\n",
       "      <td>Will hold any guitar that I've seen. It holds ...</td>\n",
       "      <td>Thrilled</td>\n",
       "    </tr>\n",
       "    <tr>\n",
       "      <th>1</th>\n",
       "      <td>2</td>\n",
       "      <td>ADH0O8UVJOT10</td>\n",
       "      <td>B007Q27BH0</td>\n",
       "      <td>StormJH1</td>\n",
       "      <td>[3, 3]</td>\n",
       "      <td>5</td>\n",
       "      <td>12/31/2012</td>\n",
       "      <td>Another instant classic from Joyo</td>\n",
       "      <td>The US Dream is supposed \"clone\" of the Suhr R...</td>\n",
       "      <td>Insightful Feedback</td>\n",
       "    </tr>\n",
       "    <tr>\n",
       "      <th>2</th>\n",
       "      <td>4</td>\n",
       "      <td>A2E3Q52SJS00K2</td>\n",
       "      <td>B004N0MKN8</td>\n",
       "      <td>Wendell Burnett</td>\n",
       "      <td>[0, 0]</td>\n",
       "      <td>5</td>\n",
       "      <td>1/3/2014</td>\n",
       "      <td>Great Idea</td>\n",
       "      <td>Those of us who have leaned their guitars agai...</td>\n",
       "      <td>Thrilled</td>\n",
       "    </tr>\n",
       "    <tr>\n",
       "      <th>3</th>\n",
       "      <td>6</td>\n",
       "      <td>A4BTCECGQAIUI</td>\n",
       "      <td>B0002M6CVC</td>\n",
       "      <td>Amazon Customer</td>\n",
       "      <td>[0, 2]</td>\n",
       "      <td>4</td>\n",
       "      <td>5/30/2013</td>\n",
       "      <td>Good</td>\n",
       "      <td>Good Strings, I buy this Strings from a few ye...</td>\n",
       "      <td>Thrilled</td>\n",
       "    </tr>\n",
       "    <tr>\n",
       "      <th>4</th>\n",
       "      <td>7</td>\n",
       "      <td>A7IBOCJ0K4V8C</td>\n",
       "      <td>B003VWJ2K8</td>\n",
       "      <td>J. Walker</td>\n",
       "      <td>[0, 0]</td>\n",
       "      <td>5</td>\n",
       "      <td>5/6/2013</td>\n",
       "      <td>It works.</td>\n",
       "      <td>This tuner can be adjusted to be very easy to ...</td>\n",
       "      <td>Insightful Feedback</td>\n",
       "    </tr>\n",
       "  </tbody>\n",
       "</table>\n",
       "</div>"
      ],
      "text/plain": [
       "   Randomizer      reviewerID        asin     reviewerName helpful  overall  \\\n",
       "0           1  A1NAA1R38JSNHV  B0002F7IIK       Josh Leger  [0, 0]        5   \n",
       "1           2   ADH0O8UVJOT10  B007Q27BH0         StormJH1  [3, 3]        5   \n",
       "2           4  A2E3Q52SJS00K2  B004N0MKN8  Wendell Burnett  [0, 0]        5   \n",
       "3           6   A4BTCECGQAIUI  B0002M6CVC  Amazon Customer  [0, 2]        4   \n",
       "4           7   A7IBOCJ0K4V8C  B003VWJ2K8        J. Walker  [0, 0]        5   \n",
       "\n",
       "   reviewTime                            summary  \\\n",
       "0    1/4/2013        works wonders, very durable   \n",
       "1  12/31/2012  Another instant classic from Joyo   \n",
       "2    1/3/2014                         Great Idea   \n",
       "3   5/30/2013                               Good   \n",
       "4    5/6/2013                          It works.   \n",
       "\n",
       "                                          reviewText User Experience Spectrum  \n",
       "0  Will hold any guitar that I've seen. It holds ...                 Thrilled  \n",
       "1  The US Dream is supposed \"clone\" of the Suhr R...      Insightful Feedback  \n",
       "2  Those of us who have leaned their guitars agai...                 Thrilled  \n",
       "3  Good Strings, I buy this Strings from a few ye...                 Thrilled  \n",
       "4  This tuner can be adjusted to be very easy to ...      Insightful Feedback  "
      ]
     },
     "execution_count": 3,
     "metadata": {},
     "output_type": "execute_result"
    }
   ],
   "source": [
    "df.head()"
   ]
  },
  {
   "cell_type": "markdown",
   "id": "fc69f404",
   "metadata": {},
   "source": [
    "### EDA (Exploratory Data Analysis)"
   ]
  },
  {
   "cell_type": "code",
   "execution_count": 4,
   "id": "dfcc9a44",
   "metadata": {},
   "outputs": [],
   "source": [
    "df.drop(['Randomizer'], axis=1, inplace=True)"
   ]
  },
  {
   "cell_type": "code",
   "execution_count": 5,
   "id": "5e55de0d",
   "metadata": {},
   "outputs": [
    {
     "data": {
      "text/html": [
       "<div>\n",
       "<style scoped>\n",
       "    .dataframe tbody tr th:only-of-type {\n",
       "        vertical-align: middle;\n",
       "    }\n",
       "\n",
       "    .dataframe tbody tr th {\n",
       "        vertical-align: top;\n",
       "    }\n",
       "\n",
       "    .dataframe thead th {\n",
       "        text-align: right;\n",
       "    }\n",
       "</style>\n",
       "<table border=\"1\" class=\"dataframe\">\n",
       "  <thead>\n",
       "    <tr style=\"text-align: right;\">\n",
       "      <th></th>\n",
       "      <th>reviewerID</th>\n",
       "      <th>asin</th>\n",
       "      <th>reviewerName</th>\n",
       "      <th>helpful</th>\n",
       "      <th>overall</th>\n",
       "      <th>reviewTime</th>\n",
       "      <th>summary</th>\n",
       "      <th>reviewText</th>\n",
       "      <th>User Experience Spectrum</th>\n",
       "    </tr>\n",
       "  </thead>\n",
       "  <tbody>\n",
       "    <tr>\n",
       "      <th>150</th>\n",
       "      <td>A22Z554ZQ8NFPC</td>\n",
       "      <td>B0002D0CKI</td>\n",
       "      <td>AF \"Whigs\"</td>\n",
       "      <td>[12, 12]</td>\n",
       "      <td>3</td>\n",
       "      <td>9/8/2011</td>\n",
       "      <td>Good &amp; Bad</td>\n",
       "      <td>First, I love these picks and used them exclus...</td>\n",
       "      <td>Mixed Emotions</td>\n",
       "    </tr>\n",
       "    <tr>\n",
       "      <th>151</th>\n",
       "      <td>A1B9Q3SNKI6T5V</td>\n",
       "      <td>B0002D0LKY</td>\n",
       "      <td>Dustin Kempton</td>\n",
       "      <td>[0, 0]</td>\n",
       "      <td>1</td>\n",
       "      <td>5/2/2014</td>\n",
       "      <td>I really do hate it.</td>\n",
       "      <td>It just randomly pops off my bass, it's so sli...</td>\n",
       "      <td>Opportunity Areas</td>\n",
       "    </tr>\n",
       "    <tr>\n",
       "      <th>152</th>\n",
       "      <td>A3NAA6BH9LWIH4</td>\n",
       "      <td>B001UJEKZ6</td>\n",
       "      <td>Paul Kacprzak</td>\n",
       "      <td>[0, 2]</td>\n",
       "      <td>1</td>\n",
       "      <td>5/15/2013</td>\n",
       "      <td>I hate it.</td>\n",
       "      <td>The coversion cable didnt work. t is axlr to U...</td>\n",
       "      <td>Opportunity Areas</td>\n",
       "    </tr>\n",
       "    <tr>\n",
       "      <th>153</th>\n",
       "      <td>A1EQYR35KLTECN</td>\n",
       "      <td>B0002E1H9W</td>\n",
       "      <td>animulvr</td>\n",
       "      <td>[0, 1]</td>\n",
       "      <td>3</td>\n",
       "      <td>1/6/2013</td>\n",
       "      <td>Hate the pushdown bottle heads!</td>\n",
       "      <td>I like Dunlop products but... The push down ap...</td>\n",
       "      <td>Opportunity Areas</td>\n",
       "    </tr>\n",
       "    <tr>\n",
       "      <th>154</th>\n",
       "      <td>A1QRF5KISDOKPA</td>\n",
       "      <td>B000SAC5PA</td>\n",
       "      <td>santos</td>\n",
       "      <td>[6, 8]</td>\n",
       "      <td>1</td>\n",
       "      <td>12/23/2011</td>\n",
       "      <td>hate it</td>\n",
       "      <td>ok when i saw the bag i was impressed nice loo...</td>\n",
       "      <td>Opportunity Areas</td>\n",
       "    </tr>\n",
       "    <tr>\n",
       "      <th>155</th>\n",
       "      <td>A1VW19Y79DC0GF</td>\n",
       "      <td>B00186L9X2</td>\n",
       "      <td>Andrew M. Ward \"My Stolen Life\"</td>\n",
       "      <td>[13, 16]</td>\n",
       "      <td>3</td>\n",
       "      <td>8/31/2011</td>\n",
       "      <td>It's a Love / Hate Relationship...</td>\n",
       "      <td>It cannot be denied that the BOSS DD-7 is a ve...</td>\n",
       "      <td>Mixed Emotions</td>\n",
       "    </tr>\n",
       "    <tr>\n",
       "      <th>156</th>\n",
       "      <td>A15BHBF0L0HV1F</td>\n",
       "      <td>B0002D0E8S</td>\n",
       "      <td>Quaestor \"Raoul Duke\"</td>\n",
       "      <td>[0, 0]</td>\n",
       "      <td>3</td>\n",
       "      <td>11/30/2013</td>\n",
       "      <td>Nothing Special</td>\n",
       "      <td>Nothing special. Just like every other strap o...</td>\n",
       "      <td>Mixed Emotions</td>\n",
       "    </tr>\n",
       "    <tr>\n",
       "      <th>157</th>\n",
       "      <td>A3DDZ2SENG07MS</td>\n",
       "      <td>B003LTJ404</td>\n",
       "      <td>dashreeve</td>\n",
       "      <td>[0, 0]</td>\n",
       "      <td>4</td>\n",
       "      <td>1/6/2012</td>\n",
       "      <td>Good stand - not the best for gigging / travel</td>\n",
       "      <td>The stand seems sturdy, the base is like a tri...</td>\n",
       "      <td>Insightful Feedback</td>\n",
       "    </tr>\n",
       "    <tr>\n",
       "      <th>158</th>\n",
       "      <td>A1EFXXRDV40C4E</td>\n",
       "      <td>B003SZDFM4</td>\n",
       "      <td>Charles Casterline</td>\n",
       "      <td>[2, 2]</td>\n",
       "      <td>3</td>\n",
       "      <td>12/16/2012</td>\n",
       "      <td>Nothing to brag about</td>\n",
       "      <td>I use to have a guitar that sounded horrible w...</td>\n",
       "      <td>Opportunity Areas</td>\n",
       "    </tr>\n",
       "    <tr>\n",
       "      <th>159</th>\n",
       "      <td>A1FCX548TD6DLP</td>\n",
       "      <td>B003QTM9O2</td>\n",
       "      <td>Cooper the Beagle</td>\n",
       "      <td>[0, 0]</td>\n",
       "      <td>1</td>\n",
       "      <td>1/9/2014</td>\n",
       "      <td>Poorly Made, Flimsy. Buy Another Product</td>\n",
       "      <td>At the time I bought, was $16. Mine arrived br...</td>\n",
       "      <td>Opportunity Areas</td>\n",
       "    </tr>\n",
       "  </tbody>\n",
       "</table>\n",
       "</div>"
      ],
      "text/plain": [
       "         reviewerID        asin                     reviewerName   helpful  \\\n",
       "150  A22Z554ZQ8NFPC  B0002D0CKI                       AF \"Whigs\"  [12, 12]   \n",
       "151  A1B9Q3SNKI6T5V  B0002D0LKY                   Dustin Kempton    [0, 0]   \n",
       "152  A3NAA6BH9LWIH4  B001UJEKZ6                    Paul Kacprzak    [0, 2]   \n",
       "153  A1EQYR35KLTECN  B0002E1H9W                         animulvr    [0, 1]   \n",
       "154  A1QRF5KISDOKPA  B000SAC5PA                           santos    [6, 8]   \n",
       "155  A1VW19Y79DC0GF  B00186L9X2  Andrew M. Ward \"My Stolen Life\"  [13, 16]   \n",
       "156  A15BHBF0L0HV1F  B0002D0E8S            Quaestor \"Raoul Duke\"    [0, 0]   \n",
       "157  A3DDZ2SENG07MS  B003LTJ404                        dashreeve    [0, 0]   \n",
       "158  A1EFXXRDV40C4E  B003SZDFM4               Charles Casterline    [2, 2]   \n",
       "159  A1FCX548TD6DLP  B003QTM9O2                Cooper the Beagle    [0, 0]   \n",
       "\n",
       "     overall  reviewTime                                         summary  \\\n",
       "150        3    9/8/2011                                      Good & Bad   \n",
       "151        1    5/2/2014                            I really do hate it.   \n",
       "152        1   5/15/2013                                      I hate it.   \n",
       "153        3    1/6/2013                 Hate the pushdown bottle heads!   \n",
       "154        1  12/23/2011                                         hate it   \n",
       "155        3   8/31/2011              It's a Love / Hate Relationship...   \n",
       "156        3  11/30/2013                                 Nothing Special   \n",
       "157        4    1/6/2012  Good stand - not the best for gigging / travel   \n",
       "158        3  12/16/2012                           Nothing to brag about   \n",
       "159        1    1/9/2014        Poorly Made, Flimsy. Buy Another Product   \n",
       "\n",
       "                                            reviewText  \\\n",
       "150  First, I love these picks and used them exclus...   \n",
       "151  It just randomly pops off my bass, it's so sli...   \n",
       "152  The coversion cable didnt work. t is axlr to U...   \n",
       "153  I like Dunlop products but... The push down ap...   \n",
       "154  ok when i saw the bag i was impressed nice loo...   \n",
       "155  It cannot be denied that the BOSS DD-7 is a ve...   \n",
       "156  Nothing special. Just like every other strap o...   \n",
       "157  The stand seems sturdy, the base is like a tri...   \n",
       "158  I use to have a guitar that sounded horrible w...   \n",
       "159  At the time I bought, was $16. Mine arrived br...   \n",
       "\n",
       "    User Experience Spectrum  \n",
       "150           Mixed Emotions  \n",
       "151        Opportunity Areas  \n",
       "152        Opportunity Areas  \n",
       "153        Opportunity Areas  \n",
       "154        Opportunity Areas  \n",
       "155           Mixed Emotions  \n",
       "156           Mixed Emotions  \n",
       "157      Insightful Feedback  \n",
       "158        Opportunity Areas  \n",
       "159        Opportunity Areas  "
      ]
     },
     "execution_count": 5,
     "metadata": {},
     "output_type": "execute_result"
    }
   ],
   "source": [
    "df.tail(10)"
   ]
  },
  {
   "cell_type": "code",
   "execution_count": 6,
   "id": "2ccc0820",
   "metadata": {},
   "outputs": [
    {
     "data": {
      "text/plain": [
       "reviewerID                  0.0\n",
       "asin                        0.0\n",
       "reviewerName                0.0\n",
       "helpful                     0.0\n",
       "overall                     0.0\n",
       "reviewTime                  0.0\n",
       "summary                     0.0\n",
       "reviewText                  0.0\n",
       "User Experience Spectrum    0.0\n",
       "dtype: float64"
      ]
     },
     "execution_count": 6,
     "metadata": {},
     "output_type": "execute_result"
    }
   ],
   "source": [
    "missing_values = df.isna().sum() * 100 / df.shape[0]\n",
    "missing_values.sort_values(ascending=False)\n",
    "missing_values\n",
    "# missing_values[missing_values > 0].sort_values(ascending=True)"
   ]
  },
  {
   "cell_type": "code",
   "execution_count": null,
   "id": "1ca81379",
   "metadata": {},
   "outputs": [],
   "source": []
  },
  {
   "cell_type": "markdown",
   "id": "f481b55b",
   "metadata": {},
   "source": [
    "# Feature Engineering"
   ]
  },
  {
   "cell_type": "code",
   "execution_count": 7,
   "id": "aad11829",
   "metadata": {},
   "outputs": [],
   "source": [
    "# Define numerical labels for User Experience Spectrum\n",
    "spectrum_labels = {'Thrilled': 0, 'Insightful Feedback': 1, 'Mixed Emotions': 2, 'Opportunity Areas': 3}\n",
    "\n",
    "# Apply labels to the 'user_experience_spectrum' column\n",
    "df['user_experience_labels'] = df['User Experience Spectrum'].map(spectrum_labels)\n"
   ]
  },
  {
   "cell_type": "code",
   "execution_count": 8,
   "id": "32c3b9a6",
   "metadata": {},
   "outputs": [
    {
     "name": "stderr",
     "output_type": "stream",
     "text": [
      "[nltk_data] Downloading package punkt to /Users/drey/nltk_data...\n",
      "[nltk_data]   Package punkt is already up-to-date!\n",
      "[nltk_data] Downloading package stopwords to /Users/drey/nltk_data...\n",
      "[nltk_data]   Package stopwords is already up-to-date!\n"
     ]
    },
    {
     "data": {
      "text/plain": [
       "True"
      ]
     },
     "execution_count": 8,
     "metadata": {},
     "output_type": "execute_result"
    }
   ],
   "source": [
    "import nltk\n",
    "nltk.download('punkt')\n",
    "nltk.download('stopwords')"
   ]
  },
  {
   "cell_type": "code",
   "execution_count": 9,
   "id": "77654aba",
   "metadata": {},
   "outputs": [],
   "source": [
    "en_stopwords=set(stopwords.words('english'))"
   ]
  },
  {
   "cell_type": "code",
   "execution_count": 10,
   "id": "b33b8a76",
   "metadata": {},
   "outputs": [],
   "source": [
    "tokenizer = RegexpTokenizer(r'\\w+')\n",
    "\n",
    "# Tokenization\n",
    "df['tokenized_text'] = df['reviewText'].apply(tokenizer.tokenize)\n",
    "\n",
    "# Stopword removal\n",
    "stop_words = set(stopwords.words('english'))\n",
    "df['filtered_tokens'] = df['tokenized_text'].apply(lambda tokens: [word for word in tokens if word.lower() not in en_stopwords])\n",
    "\n",
    "# Stemming\n",
    "ps = PorterStemmer()\n",
    "df['stemmed_tokens'] = df['filtered_tokens'].apply(lambda tokens: [ps.stem(word) for word in tokens])\n",
    "\n",
    "# Combine preprocessed tokens\n",
    "df['processed_text'] = df['stemmed_tokens'].apply(lambda tokens: ' '.join(tokens))\n"
   ]
  },
  {
   "cell_type": "code",
   "execution_count": 11,
   "id": "cf14b96d",
   "metadata": {},
   "outputs": [],
   "source": [
    "# Tokenization for 'summary'\n",
    "df['tokenized_summary'] = df['summary'].apply(tokenizer.tokenize)\n",
    "\n",
    "# Stopword removal for 'summary'\n",
    "df['filtered_summary_tokens'] = df['tokenized_summary'].apply(lambda tokens: [word for word in tokens if word.lower() not in en_stopwords])\n",
    "\n",
    "# Stemming for 'summary'\n",
    "df['stemmed_summary_tokens'] = df['filtered_summary_tokens'].apply(lambda tokens: [ps.stem(word) for word in tokens])\n",
    "\n",
    "# Combine preprocessed tokens for 'summary'\n",
    "df['processed_summary'] = df['stemmed_summary_tokens'].apply(lambda tokens: ' '.join(tokens))\n",
    "\n",
    "# Concatenate 'summary' and 'reviewText' for a holistic input\n",
    "df['combined_text'] = df['processed_text'] + ' ' + df['processed_summary']"
   ]
  },
  {
   "cell_type": "markdown",
   "id": "cc4a2083",
   "metadata": {},
   "source": [
    "# Train Data"
   ]
  },
  {
   "cell_type": "code",
   "execution_count": 12,
   "id": "02b11e6b",
   "metadata": {},
   "outputs": [],
   "source": [
    "# Split data into training and testing sets\n",
    "X_train, X_test, y_train, y_test = train_test_split(df['combined_text'], df['user_experience_labels'], test_size=0.2, random_state=42)"
   ]
  },
  {
   "cell_type": "code",
   "execution_count": null,
   "id": "e6f9ae44",
   "metadata": {},
   "outputs": [],
   "source": []
  },
  {
   "cell_type": "code",
   "execution_count": 13,
   "id": "5e4cdd64",
   "metadata": {},
   "outputs": [],
   "source": [
    "#Exclude Nan values from training\n",
    "df.dropna(subset=['user_experience_labels'], inplace=True)"
   ]
  },
  {
   "cell_type": "code",
   "execution_count": 14,
   "id": "af1d749e",
   "metadata": {},
   "outputs": [],
   "source": [
    "# Bag of Words (BoW) vectorization\n",
    "bow_vectorizer = CountVectorizer()\n",
    "X_train_bow = bow_vectorizer.fit_transform(X_train)\n",
    "X_test_bow = bow_vectorizer.transform(X_test)"
   ]
  },
  {
   "cell_type": "code",
   "execution_count": 15,
   "id": "63bb0384",
   "metadata": {},
   "outputs": [],
   "source": [
    "# TF-IDF vectorization\n",
    "tfidf_vectorizer = TfidfVectorizer()\n",
    "X_train_tfidf = tfidf_vectorizer.fit_transform(X_train)\n",
    "X_test_tfidf = tfidf_vectorizer.transform(X_test)\n"
   ]
  },
  {
   "cell_type": "code",
   "execution_count": 16,
   "id": "4af9ad6b",
   "metadata": {
    "scrolled": true
   },
   "outputs": [
    {
     "name": "stdout",
     "output_type": "stream",
     "text": [
      "\n",
      "SVM Accuracy: 0.6875\n",
      "              precision    recall  f1-score   support\n",
      "\n",
      "           0       0.69      1.00      0.81        22\n",
      "           1       0.00      0.00      0.00         4\n",
      "           2       0.00      0.00      0.00         4\n",
      "           3       0.00      0.00      0.00         2\n",
      "\n",
      "    accuracy                           0.69        32\n",
      "   macro avg       0.17      0.25      0.20        32\n",
      "weighted avg       0.47      0.69      0.56        32\n",
      "\n",
      "\n",
      "Logistic Regression Accuracy: 0.6875\n",
      "              precision    recall  f1-score   support\n",
      "\n",
      "           0       0.69      1.00      0.81        22\n",
      "           1       0.00      0.00      0.00         4\n",
      "           2       0.00      0.00      0.00         4\n",
      "           3       0.00      0.00      0.00         2\n",
      "\n",
      "    accuracy                           0.69        32\n",
      "   macro avg       0.17      0.25      0.20        32\n",
      "weighted avg       0.47      0.69      0.56        32\n",
      "\n",
      "\n",
      "Naive Bayes Accuracy: 0.6875\n",
      "              precision    recall  f1-score   support\n",
      "\n",
      "           0       0.69      1.00      0.81        22\n",
      "           1       0.00      0.00      0.00         4\n",
      "           2       0.00      0.00      0.00         4\n",
      "           3       0.00      0.00      0.00         2\n",
      "\n",
      "    accuracy                           0.69        32\n",
      "   macro avg       0.17      0.25      0.20        32\n",
      "weighted avg       0.47      0.69      0.56        32\n",
      "\n",
      "\n",
      "Random Forest Accuracy: 0.6875\n",
      "              precision    recall  f1-score   support\n",
      "\n",
      "           0       0.69      1.00      0.81        22\n",
      "           1       0.00      0.00      0.00         4\n",
      "           2       0.00      0.00      0.00         4\n",
      "           3       0.00      0.00      0.00         2\n",
      "\n",
      "    accuracy                           0.69        32\n",
      "   macro avg       0.17      0.25      0.20        32\n",
      "weighted avg       0.47      0.69      0.56        32\n",
      "\n",
      "\n",
      "Gradient Boosting Accuracy: 0.6250\n",
      "              precision    recall  f1-score   support\n",
      "\n",
      "           0       0.70      0.86      0.78        22\n",
      "           1       0.33      0.25      0.29         4\n",
      "           2       0.00      0.00      0.00         4\n",
      "           3       0.00      0.00      0.00         2\n",
      "\n",
      "    accuracy                           0.62        32\n",
      "   macro avg       0.26      0.28      0.27        32\n",
      "weighted avg       0.53      0.62      0.57        32\n",
      "\n"
     ]
    }
   ],
   "source": [
    "# Initialize and train different models\n",
    "models = {\n",
    "    'SVM': SVC(kernel='linear', C=1),\n",
    "    'Logistic Regression': LogisticRegression(),\n",
    "    'Naive Bayes': MultinomialNB(),\n",
    "    'Random Forest': RandomForestClassifier(),\n",
    "    'Gradient Boosting': GradientBoostingClassifier()\n",
    "}\n",
    "\n",
    "for name, model in models.items():\n",
    "    model.fit(X_train_tfidf, y_train)\n",
    "    y_pred = model.predict(X_test_tfidf)\n",
    "    \n",
    "    accuracy = accuracy_score(y_test, y_pred)\n",
    "    print(f\"\\n{name} Accuracy: {accuracy:.4f}\")\n",
    "    print(classification_report(y_test, y_pred))"
   ]
  },
  {
   "cell_type": "code",
   "execution_count": 17,
   "id": "95b945e5",
   "metadata": {},
   "outputs": [],
   "source": [
    "# Define class weights\n",
    "class_weights = {0: .5, 1: 2, 2: 4, 3: 6} \n",
    "\n",
    "# By setting class_weight='balanced', the SVM model will automatically \n",
    "# adjust the weights based on the inverse of the class frequencies. \n",
    "# This can help improve the model's performance on minority classes."
   ]
  },
  {
   "cell_type": "code",
   "execution_count": 18,
   "id": "711bd4ad",
   "metadata": {},
   "outputs": [
    {
     "data": {
      "text/html": [
       "<style>#sk-container-id-1 {color: black;}#sk-container-id-1 pre{padding: 0;}#sk-container-id-1 div.sk-toggleable {background-color: white;}#sk-container-id-1 label.sk-toggleable__label {cursor: pointer;display: block;width: 100%;margin-bottom: 0;padding: 0.3em;box-sizing: border-box;text-align: center;}#sk-container-id-1 label.sk-toggleable__label-arrow:before {content: \"▸\";float: left;margin-right: 0.25em;color: #696969;}#sk-container-id-1 label.sk-toggleable__label-arrow:hover:before {color: black;}#sk-container-id-1 div.sk-estimator:hover label.sk-toggleable__label-arrow:before {color: black;}#sk-container-id-1 div.sk-toggleable__content {max-height: 0;max-width: 0;overflow: hidden;text-align: left;background-color: #f0f8ff;}#sk-container-id-1 div.sk-toggleable__content pre {margin: 0.2em;color: black;border-radius: 0.25em;background-color: #f0f8ff;}#sk-container-id-1 input.sk-toggleable__control:checked~div.sk-toggleable__content {max-height: 200px;max-width: 100%;overflow: auto;}#sk-container-id-1 input.sk-toggleable__control:checked~label.sk-toggleable__label-arrow:before {content: \"▾\";}#sk-container-id-1 div.sk-estimator input.sk-toggleable__control:checked~label.sk-toggleable__label {background-color: #d4ebff;}#sk-container-id-1 div.sk-label input.sk-toggleable__control:checked~label.sk-toggleable__label {background-color: #d4ebff;}#sk-container-id-1 input.sk-hidden--visually {border: 0;clip: rect(1px 1px 1px 1px);clip: rect(1px, 1px, 1px, 1px);height: 1px;margin: -1px;overflow: hidden;padding: 0;position: absolute;width: 1px;}#sk-container-id-1 div.sk-estimator {font-family: monospace;background-color: #f0f8ff;border: 1px dotted black;border-radius: 0.25em;box-sizing: border-box;margin-bottom: 0.5em;}#sk-container-id-1 div.sk-estimator:hover {background-color: #d4ebff;}#sk-container-id-1 div.sk-parallel-item::after {content: \"\";width: 100%;border-bottom: 1px solid gray;flex-grow: 1;}#sk-container-id-1 div.sk-label:hover label.sk-toggleable__label {background-color: #d4ebff;}#sk-container-id-1 div.sk-serial::before {content: \"\";position: absolute;border-left: 1px solid gray;box-sizing: border-box;top: 0;bottom: 0;left: 50%;z-index: 0;}#sk-container-id-1 div.sk-serial {display: flex;flex-direction: column;align-items: center;background-color: white;padding-right: 0.2em;padding-left: 0.2em;position: relative;}#sk-container-id-1 div.sk-item {position: relative;z-index: 1;}#sk-container-id-1 div.sk-parallel {display: flex;align-items: stretch;justify-content: center;background-color: white;position: relative;}#sk-container-id-1 div.sk-item::before, #sk-container-id-1 div.sk-parallel-item::before {content: \"\";position: absolute;border-left: 1px solid gray;box-sizing: border-box;top: 0;bottom: 0;left: 50%;z-index: -1;}#sk-container-id-1 div.sk-parallel-item {display: flex;flex-direction: column;z-index: 1;position: relative;background-color: white;}#sk-container-id-1 div.sk-parallel-item:first-child::after {align-self: flex-end;width: 50%;}#sk-container-id-1 div.sk-parallel-item:last-child::after {align-self: flex-start;width: 50%;}#sk-container-id-1 div.sk-parallel-item:only-child::after {width: 0;}#sk-container-id-1 div.sk-dashed-wrapped {border: 1px dashed gray;margin: 0 0.4em 0.5em 0.4em;box-sizing: border-box;padding-bottom: 0.4em;background-color: white;}#sk-container-id-1 div.sk-label label {font-family: monospace;font-weight: bold;display: inline-block;line-height: 1.2em;}#sk-container-id-1 div.sk-label-container {text-align: center;}#sk-container-id-1 div.sk-container {/* jupyter's `normalize.less` sets `[hidden] { display: none; }` but bootstrap.min.css set `[hidden] { display: none !important; }` so we also need the `!important` here to be able to override the default hidden behavior on the sphinx rendered scikit-learn.org. See: https://github.com/scikit-learn/scikit-learn/issues/21755 */display: inline-block !important;position: relative;}#sk-container-id-1 div.sk-text-repr-fallback {display: none;}</style><div id=\"sk-container-id-1\" class=\"sk-top-container\"><div class=\"sk-text-repr-fallback\"><pre>SVC(C=4, class_weight={0: 0.5, 1: 2, 2: 4, 3: 6}, kernel=&#x27;linear&#x27;,\n",
       "    probability=True)</pre><b>In a Jupyter environment, please rerun this cell to show the HTML representation or trust the notebook. <br />On GitHub, the HTML representation is unable to render, please try loading this page with nbviewer.org.</b></div><div class=\"sk-container\" hidden><div class=\"sk-item\"><div class=\"sk-estimator sk-toggleable\"><input class=\"sk-toggleable__control sk-hidden--visually\" id=\"sk-estimator-id-1\" type=\"checkbox\" checked><label for=\"sk-estimator-id-1\" class=\"sk-toggleable__label sk-toggleable__label-arrow\">SVC</label><div class=\"sk-toggleable__content\"><pre>SVC(C=4, class_weight={0: 0.5, 1: 2, 2: 4, 3: 6}, kernel=&#x27;linear&#x27;,\n",
       "    probability=True)</pre></div></div></div></div></div>"
      ],
      "text/plain": [
       "SVC(C=4, class_weight={0: 0.5, 1: 2, 2: 4, 3: 6}, kernel='linear',\n",
       "    probability=True)"
      ]
     },
     "execution_count": 18,
     "metadata": {},
     "output_type": "execute_result"
    }
   ],
   "source": [
    "# Initialize SVM model with class weights\n",
    "svm_model = SVC(kernel='linear', C=4, class_weight=class_weights, probability=True)\n",
    "\n",
    "# Train the SVM model\n",
    "svm_model.fit(X_train_tfidf, y_train)"
   ]
  },
  {
   "cell_type": "code",
   "execution_count": 19,
   "id": "0954871c",
   "metadata": {},
   "outputs": [
    {
     "name": "stdout",
     "output_type": "stream",
     "text": [
      "Accuracy: 0.6875\n",
      "Classification Report:\n",
      "               precision    recall  f1-score   support\n",
      "\n",
      "           0       0.70      0.95      0.81        22\n",
      "           1       0.50      0.25      0.33         4\n",
      "           2       0.00      0.00      0.00         4\n",
      "           3       0.00      0.00      0.00         2\n",
      "\n",
      "    accuracy                           0.69        32\n",
      "   macro avg       0.30      0.30      0.29        32\n",
      "weighted avg       0.54      0.69      0.60        32\n",
      "\n"
     ]
    }
   ],
   "source": [
    "# Evaluate model\n",
    "y_pred = svm_model.predict(X_test_tfidf)\n",
    "accuracy = accuracy_score(y_test, y_pred)\n",
    "classification_report_str = classification_report(y_test, y_pred)\n",
    "print(f'Accuracy: {accuracy}')\n",
    "print('Classification Report:\\n', classification_report_str)"
   ]
  },
  {
   "cell_type": "code",
   "execution_count": 20,
   "id": "201497a5",
   "metadata": {},
   "outputs": [
    {
     "name": "stdout",
     "output_type": "stream",
     "text": [
      "Requirement already satisfied: joblib in /Users/drey/anaconda3/lib/python3.11/site-packages (1.2.0)\r\n"
     ]
    }
   ],
   "source": [
    "!pip install joblib"
   ]
  },
  {
   "cell_type": "code",
   "execution_count": 21,
   "id": "be32ad64",
   "metadata": {},
   "outputs": [
    {
     "data": {
      "text/plain": [
       "['model.pkl']"
      ]
     },
     "execution_count": 21,
     "metadata": {},
     "output_type": "execute_result"
    }
   ],
   "source": [
    "import joblib\n",
    "\n",
    "# joblib.dump(en_stopwords,'stopwords.pkl') \n",
    "joblib.dump(svm_model,'model.pkl', compress=('zlib', 3))\n",
    "# joblib.dump(tfidf_vectorizer,'vectorizer.pkl')"
   ]
  },
  {
   "cell_type": "code",
   "execution_count": 22,
   "id": "4cc0492f",
   "metadata": {},
   "outputs": [],
   "source": [
    "# # Define numerical labels for User Experience Spectrum\n",
    "# spectrum_labels = {'Thrilled': 0, 'Insightful Feedback': 1, 'Mixed Emotions': 2, 'Opportunity Areas': 3}\n",
    "\n",
    "# # Apply labels to the 'user_experience_spectrum' column\n",
    "# df['user_experience_labels'] = df['User Experience Spectrum'].map(spectrum_labels)\n",
    "\n",
    "# en_stopwords=set(stopwords.words('english'))\n",
    "# tokenizer = RegexpTokenizer(r'\\w+')\n",
    "\n",
    "# # Tokenization\n",
    "# df['tokenized_text'] = df['reviewText'].apply(tokenizer.tokenize)\n",
    "\n",
    "# # Stopword removal\n",
    "# stop_words = set(stopwords.words('english'))\n",
    "# df['filtered_tokens'] = df['tokenized_text'].apply(lambda tokens: [word for word in tokens if word.lower() not in en_stopwords])\n",
    "\n",
    "# # Stemming\n",
    "# ps = PorterStemmer()\n",
    "# df['stemmed_tokens'] = df['filtered_tokens'].apply(lambda tokens: [ps.stem(word) for word in tokens])\n",
    "\n",
    "# # Combine preprocessed tokens\n",
    "# df['processed_text'] = df['stemmed_tokens'].apply(lambda tokens: ' '.join(tokens))\n",
    "\n",
    "# # Split data into training and testing sets\n",
    "# X_train, X_test, y_train, y_test = train_test_split(df['processed_text'], df['user_experience_labels'], test_size=0.2, random_state=42)\n",
    "\n",
    "# #Exclude Nan values from training\n",
    "# df.dropna(subset=['user_experience_labels'], inplace=True)\n",
    "\n",
    "\n",
    "# # TF-IDF vectorization\n",
    "# tfidf_vectorizer = TfidfVectorizer()\n",
    "# X_train_tfidf = tfidf_vectorizer.fit_transform(X_train)\n",
    "# X_test_tfidf = tfidf_vectorizer.transform(X_test)\n",
    "\n",
    "\n",
    "# # Initialize and train different models\n",
    "# models = {\n",
    "#     'SVM': SVC(kernel='linear', C=1),\n",
    "#     'Logistic Regression': LogisticRegression(),\n",
    "#     'Naive Bayes': MultinomialNB(),\n",
    "#     'Random Forest': RandomForestClassifier(),\n",
    "#     'Gradient Boosting': GradientBoostingClassifier()\n",
    "# }\n",
    "\n",
    "# for name, model in models.items():\n",
    "#     model.fit(X_train_tfidf, y_train)\n",
    "#     y_pred = model.predict(X_test_tfidf)\n",
    "    \n",
    "#     accuracy = accuracy_score(y_test, y_pred)\n",
    "#     print(f\"\\n{name} Accuracy: {accuracy:.4f}\")\n",
    "#     print(classification_report(y_test, y_pred))\n",
    "\n",
    "# # Define class weights\n",
    "# class_weights = {0: .5, 1: 2, 2: 4, 3: 6} \n",
    "\n",
    "# # Initialize SVM model with class weights\n",
    "# svm_model = SVC(kernel='linear', C=4, class_weight=class_weights, probability=True)\n",
    "\n",
    "# # Train the SVM model\n",
    "# svm_model.fit(X_train_tfidf, y_train)\n",
    "\n",
    "# # Evaluate model\n",
    "# y_pred = svm_model.predict(X_test_tfidf)\n",
    "# accuracy = accuracy_score(y_test, y_pred)\n",
    "# classification_report_str = classification_report(y_test, y_pred)\n",
    "# print(f'Accuracy: {accuracy}')\n",
    "# print('Classification Report:\\n', classification_report_str)\n",
    "\n"
   ]
  },
  {
   "cell_type": "code",
   "execution_count": null,
   "id": "313a2aca",
   "metadata": {},
   "outputs": [],
   "source": []
  },
  {
   "cell_type": "code",
   "execution_count": null,
   "id": "c68d5a5b",
   "metadata": {},
   "outputs": [],
   "source": []
  }
 ],
 "metadata": {
  "kernelspec": {
   "display_name": "Python 3 (ipykernel)",
   "language": "python",
   "name": "python3"
  },
  "language_info": {
   "codemirror_mode": {
    "name": "ipython",
    "version": 3
   },
   "file_extension": ".py",
   "mimetype": "text/x-python",
   "name": "python",
   "nbconvert_exporter": "python",
   "pygments_lexer": "ipython3",
   "version": "3.11.5"
  }
 },
 "nbformat": 4,
 "nbformat_minor": 5
}
